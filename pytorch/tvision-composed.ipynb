{
 "cells": [
  {
   "metadata": {
    "ExecuteTime": {
     "end_time": "2025-03-21T09:36:50.241017Z",
     "start_time": "2025-03-21T09:36:50.233588Z"
    }
   },
   "cell_type": "code",
   "source": [
    "from torchvision import transforms\n",
    "from PIL import Image\n",
    "\n",
    "image = Image.open(\"aa.jpg\")\n",
    "\n",
    "composed = transforms.Compose([transforms.Resize(200),transforms.RandomCrop(80)])\n",
    "\n",
    "img = composed(image)\n",
    "display(img)"
   ],
   "id": "773a51a977b68c5a",
   "outputs": [
    {
     "data": {
      "text/plain": [
       "<PIL.Image.Image image mode=RGB size=80x80>"
      ],
      "image/png": "[encoded data removed]",
      "image/jpeg": "[encoded data removed]"
     },
     "metadata": {},
     "output_type": "display_data"
    }
   ],
   "execution_count": 9
  }
 ],
 "metadata": {
  "kernelspec": {
   "name": "python3",
   "language": "python",
   "display_name": "Python 3 (ipykernel)"
  }
 },
 "nbformat": 5,
 "nbformat_minor": 9
}
