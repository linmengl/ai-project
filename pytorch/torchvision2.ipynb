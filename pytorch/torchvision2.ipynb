{
 "cells": [
  {
   "metadata": {
    "jupyter": {
     "is_executing": true
    }
   },
   "cell_type": "code",
   "source": [
    "import torchvision\n",
    "mnist_dataset = torchvision.datasets.MNIST(root = \"./data\", train=True, transform=None, target_transform=None,download=True)\n",
    "\n",
    "mnist_dataset_list = list(mnist_dataset)\n",
    "# print(mnist_dataset_list)\n",
    "display(mnist_dataset_list[1][0])\n",
    "\n",
    "print(\"Image label is:\", mnist_dataset_list[1][1])"
   ],
   "id": "26c1dc7fa8564c48",
   "outputs": [],
   "execution_count": null
  },
  {
   "metadata": {},
   "cell_type": "code",
   "outputs": [],
   "execution_count": null,
   "source": "",
   "id": "c4ae0eff8536fda3"
  }
 ],
 "metadata": {
  "kernelspec": {
   "name": "python3",
   "language": "python",
   "display_name": "Python 3 (ipykernel)"
  }
 },
 "nbformat": 5,
 "nbformat_minor": 9
}
